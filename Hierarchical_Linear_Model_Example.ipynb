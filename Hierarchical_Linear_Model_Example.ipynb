{
 "cells": [
  {
   "cell_type": "markdown",
   "metadata": {},
   "source": [
    "In this notebook, I am going to use glm and lmer R functions to fit some multi-level linear regression models to some synthetic data. Specfically, I will focus on showing how different statistics can be used to select the best structure for the multi-level model.\n"
   ]
  },
  {
   "cell_type": "markdown",
   "metadata": {},
   "source": [
    "First, let's add the needed libraries:"
   ]
  },
  {
   "cell_type": "code",
   "execution_count": 11,
   "metadata": {
    "collapsed": false
   },
   "outputs": [],
   "source": [
    "country.code <- 'ca'  # use yours\n",
    "url.pattern <- 'https://'  # use http if you want\n",
    "repo.data.frame <- subset(getCRANmirrors(), CountryCode == country.code & grepl(url.pattern, URL))\n",
    "options(repos = repo.data.frame$URL)"
   ]
  },
  {
   "cell_type": "code",
   "execution_count": 12,
   "metadata": {
    "collapsed": true
   },
   "outputs": [
    {
     "name": "stderr",
     "output_type": "stream",
     "text": [
      "Warning message:\n",
      ": package 'arm' is in use and will not be installed"
     ]
    }
   ],
   "source": [
    "install.packages(\"arm\")\n"
   ]
  },
  {
   "cell_type": "code",
   "execution_count": 13,
   "metadata": {
    "collapsed": false
   },
   "outputs": [],
   "source": [
    "library(arm)  # convenience functions for regression in R\n"
   ]
  },
  {
   "cell_type": "markdown",
   "metadata": {},
   "source": [
    "The synthetic data is a simulation of a behavioral experiment. In this experiment we have two subjects. For each subject we have 10 trials and within each trial the test parameter has changed randomly. There are two conditions in the test. We would like to fit a linear regression to this dataset. \n",
    "The synthetic data consists of linear model in which the coefficient and the intercept change for each subject and each condition. Gaussian noise is added at the end to the generated dataset.\n"
   ]
  },
  {
   "cell_type": "markdown",
   "metadata": {},
   "source": [
    "We first set the parameters of the simulated model:"
   ]
  },
  {
   "cell_type": "code",
   "execution_count": 14,
   "metadata": {
    "collapsed": true
   },
   "outputs": [],
   "source": [
    "intercept.sbjt1.cond1 <- 1\n",
    "intercept.sbjt1.cond2 <- .5\n",
    "intercept.sbjt2.cond1 <- 1\n",
    "intercept.sbjt2.cond2 <- .5\n",
    "\n",
    "coeff.sbjt1.cond1 <- 1\n",
    "coeff.sbjt1.cond2 <- .7\n",
    "coeff.sbjt2.cond1 <- 1\n",
    "coeff.sbjt2.cond2 <- .7"
   ]
  },
  {
   "cell_type": "markdown",
   "metadata": {},
   "source": [
    "Here are the main simulations with the specfied parameters:"
   ]
  },
  {
   "cell_type": "code",
   "execution_count": 15,
   "metadata": {
    "collapsed": true
   },
   "outputs": [],
   "source": [
    "X.sbjt1.cond1 <- runif(10, min=-1, max=1)\n",
    "X.sbjt1.cond2 <- runif(10, min=-1, max=1)\n",
    "X.sbjt2.cond1 <- runif(10, min=-1, max=1)\n",
    "X.sbjt2.cond2 <- runif(10, min=-1, max=1)\n",
    "\n",
    "y.sbjt1.cond1 <- coeff.sbjt1.cond1 *  X.sbjt1.cond1 + intercept.sbjt1.cond1\n",
    "y.sbjt1.cond2 <- coeff.sbjt1.cond2 *  X.sbjt1.cond2 + intercept.sbjt1.cond2\n",
    "y.sbjt2.cond1 <- coeff.sbjt2.cond1 *  X.sbjt2.cond1 + intercept.sbjt2.cond1\n",
    "y.sbjt2.cond2 <- coeff.sbjt2.cond2 *  X.sbjt2.cond2 + intercept.sbjt2.cond2\n"
   ]
  },
  {
   "cell_type": "markdown",
   "metadata": {},
   "source": [
    "In the next step, we pool the subjects' data to prepare it for the linear model:\n"
   ]
  },
  {
   "cell_type": "code",
   "execution_count": 16,
   "metadata": {
    "collapsed": true
   },
   "outputs": [],
   "source": [
    "X.cond1 <- c(X.sbjt1.cond1,X.sbjt2.cond1)\n",
    "X.cond2 <- c(X.sbjt1.cond2,X.sbjt2.cond2)\n",
    "y.cond1 <- c(y.sbjt1.cond1,y.sbjt2.cond1)\n",
    "y.cond2 <- c(y.sbjt1.cond2,y.sbjt2.cond2)\n",
    "s.cond1 <- c(matrix(0,1,10),matrix(1,1,10))\n",
    "s.cond2 <- c(matrix(0,1,10),matrix(1,1,10))\n",
    "\n",
    "X1 <- array(X.cond1, dim=c(20,1))\n",
    "Y1 <- array(y.cond1, dim=c(20,1))\n",
    "C1 <- array(s.cond1, dim=c(20,1))\n",
    "X2 <- array(X.cond2, dim=c(20,1))\n",
    "Y2 <- array(y.cond2, dim=c(20,1))\n",
    "C2 <- array(s.cond2, dim=c(20,1))\n",
    "\n",
    "df1 <- data.frame(X1,C1,Y1)\n",
    "df2 <- data.frame(X2,C2,Y2)\n"
   ]
  },
  {
   "cell_type": "markdown",
   "metadata": {},
   "source": [
    "df1 and df2 contain all the simulated data for the first and the second subjects, respectively. \n"
   ]
  },
  {
   "cell_type": "markdown",
   "metadata": {},
   "source": [
    "Using the glm toolbox, we first fit an ordinary linear regression model to the data. In this model, the differences between the two subjects will be ignored, and the model will be identified as if all the samples are exchangeable:\n"
   ]
  },
  {
   "cell_type": "code",
   "execution_count": 17,
   "metadata": {
    "collapsed": false
   },
   "outputs": [
    {
     "name": "stdout",
     "output_type": "stream",
     "text": [
      "cond_1 Fixed-effect AIC =  -1381.947 \n",
      "cond_2 Fixed-effect AIC =  -1376.633 \n"
     ]
    }
   ],
   "source": [
    "# ordinary linear regression with glm library\n",
    "MLexamp1.1 <- glm(Y1 ~ X1, data = df1)\n",
    "MLexamp2.1 <- glm(Y2 ~ X2, data = df2)\n",
    "\n",
    "cat(\"cond_1 Fixed-effect AIC = \", AIC(MLexamp1.1),\"\\n\")\n",
    "cat(\"cond_2 Fixed-effect AIC = \",AIC(MLexamp2.1),\"\\n\")"
   ]
  },
  {
   "cell_type": "markdown",
   "metadata": {},
   "source": [
    "The goodness of fit is being assessed by the AIC metric at the end.\n"
   ]
  },
  {
   "cell_type": "markdown",
   "metadata": {},
   "source": [
    "Now, we use the lmer function to fit a multi-level linear regression model to the same data:  "
   ]
  },
  {
   "cell_type": "code",
   "execution_count": null,
   "metadata": {
    "collapsed": true
   },
   "outputs": [],
   "source": []
  }
 ],
 "metadata": {
  "kernelspec": {
   "display_name": "R",
   "language": "R",
   "name": "ir"
  },
  "language_info": {
   "codemirror_mode": "r",
   "file_extension": ".r",
   "mimetype": "text/x-r-source",
   "name": "R",
   "pygments_lexer": "r",
   "version": "3.3.1"
  }
 },
 "nbformat": 4,
 "nbformat_minor": 0
}
